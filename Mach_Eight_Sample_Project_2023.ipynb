{
  "nbformat": 4,
  "nbformat_minor": 0,
  "metadata": {
    "colab": {
      "provenance": [],
      "authorship_tag": "ABX9TyM7TsSyGsDBobzn5OJMn8AO",
      "include_colab_link": true
    },
    "kernelspec": {
      "name": "python3",
      "display_name": "Python 3"
    },
    "language_info": {
      "name": "python"
    }
  },
  "cells": [
    {
      "cell_type": "markdown",
      "metadata": {
        "id": "view-in-github",
        "colab_type": "text"
      },
      "source": [
        "<a href=\"https://colab.research.google.com/github/luisduquec/CodingChallengeMachEight_2023/blob/main/Mach_Eight_Sample_Project_2023.ipynb\" target=\"_parent\"><img src=\"https://colab.research.google.com/assets/colab-badge.svg\" alt=\"Open In Colab\"/></a>"
      ]
    },
    {
      "cell_type": "code",
      "source": [
        "def pairs_sum (array, sum_target):\n",
        "  pairs=[]\n",
        "  i=0\n",
        "  while i < len(array):\n",
        "    if (sum_target - array[i]) in array: #check pair in array\n",
        "      pairs.append([array[i], sum_target - array[i]])\n",
        "      array.remove(sum_target - array[i]) #remove one of the numbers to avoid duplicate pairs\n",
        "    i = i+1\n",
        "  return(pairs)"
      ],
      "metadata": {
        "id": "JI2ntSprgu4S"
      },
      "execution_count": 91,
      "outputs": []
    },
    {
      "cell_type": "code",
      "source": [
        "pairs_sum([1,9,5,0,20,-4,12,16,7], 12)"
      ],
      "metadata": {
        "colab": {
          "base_uri": "https://localhost:8080/"
        },
        "id": "Cx7oagP9y_Ta",
        "outputId": "a58bb1a2-87f8-4c5c-a6b3-cc0935fa3c8a"
      },
      "execution_count": 93,
      "outputs": [
        {
          "output_type": "execute_result",
          "data": {
            "text/plain": [
              "[[5, 7], [0, 12], [-4, 16]]"
            ]
          },
          "metadata": {},
          "execution_count": 93
        }
      ]
    }
  ]
}